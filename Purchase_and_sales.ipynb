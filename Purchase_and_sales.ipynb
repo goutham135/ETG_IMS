{
 "cells": [
  {
   "cell_type": "code",
   "execution_count": 183,
   "metadata": {},
   "outputs": [],
   "source": [
    "import datetime"
   ]
  },
  {
   "cell_type": "code",
   "execution_count": 184,
   "metadata": {},
   "outputs": [],
   "source": [
    "import json\n",
    "fd = open(\"stock.json\",'r')\n",
    "txt = fd.read()\n",
    "fd.close()\n",
    "stock = json.loads(txt)"
   ]
  },
  {
   "cell_type": "code",
   "execution_count": 185,
   "metadata": {
    "colab": {
     "base_uri": "https://localhost:8080/"
    },
    "id": "EEyI_pgE0sSs",
    "outputId": "beffa74e-bc71-4925-9cd4-2e02068e3d77",
    "scrolled": true
   },
   "outputs": [
    {
     "name": "stdout",
     "output_type": "stream",
     "text": [
      "Enter the product Id: 19122\n",
      "Enter the quantity: 1\n",
      "Do you want to add more products to this bill? Type y for YES or n for NO: y\n",
      "Enter the product Id: 19112\n",
      "Enter the quantity: 1\n",
      "Do you want to add more products to this bill? Type y for YES or n for NO: y\n",
      "Enter the product Id: 19121\n",
      "Enter the quantity: 1\n",
      "Do you want to add more products to this bill? Type y for YES or n for NO: n\n",
      "-------------------------------------------------------\n",
      "1 Moon Dal 55 1 55\n",
      "2 50-50 Maska Chaska 30 1 30\n",
      "3 Aloo Bhujia 35 1 35\n",
      "-------------------------------------------------------\n",
      "Total Amount to be paid: 120\n",
      "Number of items sold: 3\n",
      "2021-09-05 22:43:51\n",
      "-------------------------------------------------------\n",
      "Thank you for shopping. Please visit us again.\n"
     ]
    }
   ],
   "source": [
    "cont = True\n",
    "count = 0\n",
    "items = 0\n",
    "products = stock.keys()\n",
    "product_ids = []\n",
    "product_names = []\n",
    "product_price = []\n",
    "product_quantity = []\n",
    "product_amount = []\n",
    "billing_amount = 0\n",
    "while cont :\n",
    "\n",
    "    prod  = sinput(\"Enter the product Id: \")\n",
    "\n",
    "    if prod in products :\n",
    "        quan = int(input(\"Enter the quantity: \"))\n",
    "        if (stock[prod]['quantity'] - quan)>=0 :\n",
    "            product_ids.append(prod)\n",
    "            count = count + 1\n",
    "            product_names.append(stock[prod]['name'])\n",
    "            product_price.append(stock[prod]['price'])\n",
    "            product_quantity.append(quan)\n",
    "            product_amount.append(stock[prod]['price'] * quan)\n",
    "            items = items + quan\n",
    "            billing_amount = billing_amount + stock[prod]['price'] * quan \n",
    "\n",
    "            stock[prod]['quantity'] = stock[prod]['quantity'] - quan\n",
    "            records = json.dumps(stock)\n",
    "\n",
    "            fd = open(\"stock.json\",'w')\n",
    "            fd.write(records)\n",
    "            fd.close()\n",
    "        else :\n",
    "            print(\"Product out of stock\")\n",
    "            print(\"Current available quantity is:\", stock[prod]['quantity'])\n",
    "\n",
    "    else :\n",
    "        print(\"Please enter correct product id\")\n",
    "        print(\"Choose from the lsit given\", list(products))\n",
    "\n",
    "    \n",
    "    ask = input(\"Do you want to add more products to this bill? Type y for YES or n for NO: \")\n",
    "    if ask[0].lower()== 'y' :\n",
    "        cont = True\n",
    "    else:\n",
    "        cont = False\n",
    "if count>0 :\n",
    "    print(\"-\"*55)\n",
    "    for i in range(0,count):\n",
    "        print(i+1, product_names[i], product_price[i], product_quantity[i], product_amount[i])\n",
    "\n",
    " \n",
    "    print(\"-\"*55)\n",
    "    print(\"Total Amount to be paid:\", billing_amount)\n",
    "    print(\"Number of items sold:\", items)\n",
    "    dateandtime = datetime.datetime.now().strftime(\"%Y-%m-%d %H:%M:%S\")\n",
    "    print(dateandtime)\n",
    "    print(\"-\"*55)\n",
    "    print(\"Thank you for shopping. Please visit us again.\")"
   ]
  },
  {
   "cell_type": "code",
   "execution_count": 186,
   "metadata": {
    "id": "Rc121i9n1RLL"
   },
   "outputs": [],
   "source": [
    "fo = open(\"sales.json\", \"r\")\n",
    "txt1 = fo.read()\n",
    "fo.close()"
   ]
  },
  {
   "cell_type": "code",
   "execution_count": 187,
   "metadata": {},
   "outputs": [],
   "source": [
    "sales = json.loads(txt1)"
   ]
  },
  {
   "cell_type": "code",
   "execution_count": 188,
   "metadata": {
    "colab": {
     "base_uri": "https://localhost:8080/",
     "height": 231
    },
    "id": "z6gtCPbh277V",
    "outputId": "cf271f44-1432-4cd2-9c4b-47ba69bccfa8"
   },
   "outputs": [],
   "source": [
    "sales[len(sales)+1]= {\"product_ids\": product_ids, \"price\": product_price, \"quantities\": product_quantity, \"amount\": product_amount, \"billing_amount\": billing_amount, \"dateandtime\": dateandtime}\n",
    "sale = json.dumps(sales)"
   ]
  },
  {
   "cell_type": "code",
   "execution_count": 189,
   "metadata": {
    "colab": {
     "base_uri": "https://localhost:8080/",
     "height": 35
    },
    "id": "YpH5uDZr4a12",
    "outputId": "73716d9f-ceb2-427b-8d19-2e49aabaebd9"
   },
   "outputs": [],
   "source": [
    "f = open(\"sales.json\", \"w\")\n",
    "f.write(sale)\n",
    "f.close()"
   ]
  },
  {
   "cell_type": "code",
   "execution_count": null,
   "metadata": {},
   "outputs": [],
   "source": []
  }
 ],
 "metadata": {
  "colab": {
   "name": "Untitled2.ipynb",
   "provenance": []
  },
  "kernelspec": {
   "display_name": "Python 3",
   "language": "python",
   "name": "python3"
  },
  "language_info": {
   "codemirror_mode": {
    "name": "ipython",
    "version": 3
   },
   "file_extension": ".py",
   "mimetype": "text/x-python",
   "name": "python",
   "nbconvert_exporter": "python",
   "pygments_lexer": "ipython3",
   "version": "3.8.8"
  }
 },
 "nbformat": 4,
 "nbformat_minor": 1
}
