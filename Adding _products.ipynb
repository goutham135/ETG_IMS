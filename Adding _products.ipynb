{
 "cells": [
  {
   "cell_type": "code",
   "execution_count": 27,
   "metadata": {
    "id": "DOISLvVfhlAP"
   },
   "outputs": [],
   "source": [
    "import json\n",
    "f = open(\"stock.json\", 'r')\n",
    "txt = f.read()\n",
    "f.close()"
   ]
  },
  {
   "cell_type": "code",
   "execution_count": 28,
   "metadata": {
    "colab": {
     "base_uri": "https://localhost:8080/"
    },
    "id": "vKcr4Ib8h0UV",
    "outputId": "7e2feb49-925e-46cf-f431-8cc376db01d7"
   },
   "outputs": [],
   "source": [
    "stock = json.loads(txt)"
   ]
  },
  {
   "cell_type": "code",
   "execution_count": 26,
   "metadata": {
    "colab": {
     "base_uri": "https://localhost:8080/"
    },
    "id": "YVLOZtcoiAM5",
    "outputId": "28e7978f-3add-463f-a321-31c410c29f97"
   },
   "outputs": [
    {
     "name": "stdout",
     "output_type": "stream",
     "text": [
      "Enter product id:19101\n",
      "Enter quantity:5\n",
      "Do you want to add more items to Inventory? Type y for YES and n for NO: y\n",
      "Enter product id:19101\n",
      "Enter quantity:500\n",
      "Do you want to add more items to Inventory? Type y for YES and n for NO: n\n"
     ]
    }
   ],
   "source": [
    "products = stock.keys()\n",
    "cont = True\n",
    "while cont :\n",
    "    prod_id = input(\"Enter product id:\")\n",
    "    if prod_id in products :\n",
    "      quan = int(input(\"Enter quantity:\"))\n",
    "      stock[prod_id][\"quantity\"] = stock[prod_id][\"quantity\"] + quan\n",
    "    else:\n",
    "      name = input(\"Enter name:\")\n",
    "      price = int(input(\"Enter price:\"))\n",
    "      quan = int(input(\"Enter quantity:\"))\n",
    "      weig = int(input(\"Enter weight (in grams):\"))\n",
    "      comp = input(\"Enter company of product:\")\n",
    "      ex = input(\"Expiry Date (dd-mm-yyyy):\")\n",
    "      stock[prod_id] = {'name': name, 'price': price, 'quantity': quan, \"weight\": weig, \"company\": comp, \"expiry\": ex}\n",
    "\n",
    "    js = json.dumps(stock)\n",
    "\n",
    "    fd = open(\"stock.json\",'w')\n",
    "    fd.write(js)\n",
    "    fd.close()\n",
    "    ask = input(\"Do you want to add more items to Inventory? Type y for YES and n for NO: \")\n",
    "    if ask[0].lower()== 'y' :\n",
    "        cont = True\n",
    "    else:\n",
    "        cont = False"
   ]
  },
  {
   "cell_type": "code",
   "execution_count": 22,
   "metadata": {
    "id": "FqUYHRPoredl"
   },
   "outputs": [],
   "source": []
  }
 ],
 "metadata": {
  "colab": {
   "collapsed_sections": [],
   "name": "Untitled1.ipynb",
   "provenance": []
  },
  "kernelspec": {
   "display_name": "Python 3",
   "language": "python",
   "name": "python3"
  },
  "language_info": {
   "codemirror_mode": {
    "name": "ipython",
    "version": 3
   },
   "file_extension": ".py",
   "mimetype": "text/x-python",
   "name": "python",
   "nbconvert_exporter": "python",
   "pygments_lexer": "ipython3",
   "version": "3.8.8"
  }
 },
 "nbformat": 4,
 "nbformat_minor": 1
}
